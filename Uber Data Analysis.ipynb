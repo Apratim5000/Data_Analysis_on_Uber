{
 "cells": [
  {
   "cell_type": "code",
   "execution_count": 1,
   "metadata": {},
   "outputs": [
    {
     "name": "stdout",
     "output_type": "stream",
     "text": [
      "Populating the interactive namespace from numpy and matplotlib\n"
     ]
    }
   ],
   "source": [
    "%pylab inline\n",
    "import seaborn as sb\n",
    "import pandas as pd\n",
    "import matplotlib.pyplot as plt\n",
    "%matplotlib inline"
   ]
  },
  {
   "cell_type": "markdown",
   "metadata": {},
   "source": [
    "# Load CSV into Memory"
   ]
  },
  {
   "cell_type": "code",
   "execution_count": 2,
   "metadata": {},
   "outputs": [
    {
     "data": {
      "text/html": [
       "<div>\n",
       "<style scoped>\n",
       "    .dataframe tbody tr th:only-of-type {\n",
       "        vertical-align: middle;\n",
       "    }\n",
       "\n",
       "    .dataframe tbody tr th {\n",
       "        vertical-align: top;\n",
       "    }\n",
       "\n",
       "    .dataframe thead th {\n",
       "        text-align: right;\n",
       "    }\n",
       "</style>\n",
       "<table border=\"1\" class=\"dataframe\">\n",
       "  <thead>\n",
       "    <tr style=\"text-align: right;\">\n",
       "      <th></th>\n",
       "      <th>Date/Time</th>\n",
       "      <th>Lat</th>\n",
       "      <th>Lon</th>\n",
       "      <th>Base</th>\n",
       "    </tr>\n",
       "  </thead>\n",
       "  <tbody>\n",
       "    <tr>\n",
       "      <th>0</th>\n",
       "      <td>4/1/2014 0:11:00</td>\n",
       "      <td>40.7690</td>\n",
       "      <td>-73.9549</td>\n",
       "      <td>B02512</td>\n",
       "    </tr>\n",
       "    <tr>\n",
       "      <th>1</th>\n",
       "      <td>4/1/2014 0:17:00</td>\n",
       "      <td>40.7267</td>\n",
       "      <td>-74.0345</td>\n",
       "      <td>B02512</td>\n",
       "    </tr>\n",
       "    <tr>\n",
       "      <th>2</th>\n",
       "      <td>4/1/2014 0:21:00</td>\n",
       "      <td>40.7316</td>\n",
       "      <td>-73.9873</td>\n",
       "      <td>B02512</td>\n",
       "    </tr>\n",
       "    <tr>\n",
       "      <th>3</th>\n",
       "      <td>4/1/2014 0:28:00</td>\n",
       "      <td>40.7588</td>\n",
       "      <td>-73.9776</td>\n",
       "      <td>B02512</td>\n",
       "    </tr>\n",
       "    <tr>\n",
       "      <th>4</th>\n",
       "      <td>4/1/2014 0:33:00</td>\n",
       "      <td>40.7594</td>\n",
       "      <td>-73.9722</td>\n",
       "      <td>B02512</td>\n",
       "    </tr>\n",
       "  </tbody>\n",
       "</table>\n",
       "</div>"
      ],
      "text/plain": [
       "          Date/Time      Lat       Lon    Base\n",
       "0  4/1/2014 0:11:00  40.7690  -73.9549  B02512\n",
       "1  4/1/2014 0:17:00  40.7267  -74.0345  B02512\n",
       "2  4/1/2014 0:21:00  40.7316  -73.9873  B02512\n",
       "3  4/1/2014 0:28:00  40.7588  -73.9776  B02512\n",
       "4  4/1/2014 0:33:00  40.7594  -73.9722  B02512"
      ]
     },
     "execution_count": 2,
     "metadata": {},
     "output_type": "execute_result"
    }
   ],
   "source": [
    "df = pd.read_csv('Uber_Raw_Data_April_2014',low_memory=False)\n",
    "df.head()"
   ]
  },
  {
   "cell_type": "markdown",
   "metadata": {},
   "source": [
    "# Convert Date/Time into pandas Timestamp"
   ]
  },
  {
   "cell_type": "code",
   "execution_count": 3,
   "metadata": {},
   "outputs": [
    {
     "data": {
      "text/html": [
       "<div>\n",
       "<style scoped>\n",
       "    .dataframe tbody tr th:only-of-type {\n",
       "        vertical-align: middle;\n",
       "    }\n",
       "\n",
       "    .dataframe tbody tr th {\n",
       "        vertical-align: top;\n",
       "    }\n",
       "\n",
       "    .dataframe thead th {\n",
       "        text-align: right;\n",
       "    }\n",
       "</style>\n",
       "<table border=\"1\" class=\"dataframe\">\n",
       "  <thead>\n",
       "    <tr style=\"text-align: right;\">\n",
       "      <th></th>\n",
       "      <th>Date/Time</th>\n",
       "      <th>Lat</th>\n",
       "      <th>Lon</th>\n",
       "      <th>Base</th>\n",
       "    </tr>\n",
       "  </thead>\n",
       "  <tbody>\n",
       "    <tr>\n",
       "      <th>0</th>\n",
       "      <td>2014-04-01 00:11:00</td>\n",
       "      <td>40.7690</td>\n",
       "      <td>-73.9549</td>\n",
       "      <td>B02512</td>\n",
       "    </tr>\n",
       "    <tr>\n",
       "      <th>1</th>\n",
       "      <td>2014-04-01 00:17:00</td>\n",
       "      <td>40.7267</td>\n",
       "      <td>-74.0345</td>\n",
       "      <td>B02512</td>\n",
       "    </tr>\n",
       "    <tr>\n",
       "      <th>2</th>\n",
       "      <td>2014-04-01 00:21:00</td>\n",
       "      <td>40.7316</td>\n",
       "      <td>-73.9873</td>\n",
       "      <td>B02512</td>\n",
       "    </tr>\n",
       "    <tr>\n",
       "      <th>3</th>\n",
       "      <td>2014-04-01 00:28:00</td>\n",
       "      <td>40.7588</td>\n",
       "      <td>-73.9776</td>\n",
       "      <td>B02512</td>\n",
       "    </tr>\n",
       "    <tr>\n",
       "      <th>4</th>\n",
       "      <td>2014-04-01 00:33:00</td>\n",
       "      <td>40.7594</td>\n",
       "      <td>-73.9722</td>\n",
       "      <td>B02512</td>\n",
       "    </tr>\n",
       "  </tbody>\n",
       "</table>\n",
       "</div>"
      ],
      "text/plain": [
       "            Date/Time      Lat       Lon    Base\n",
       "0 2014-04-01 00:11:00  40.7690  -73.9549  B02512\n",
       "1 2014-04-01 00:17:00  40.7267  -74.0345  B02512\n",
       "2 2014-04-01 00:21:00  40.7316  -73.9873  B02512\n",
       "3 2014-04-01 00:28:00  40.7588  -73.9776  B02512\n",
       "4 2014-04-01 00:33:00  40.7594  -73.9722  B02512"
      ]
     },
     "execution_count": 3,
     "metadata": {},
     "output_type": "execute_result"
    }
   ],
   "source": [
    "df['Date/Time'] = df['Date/Time'].map(pd.to_datetime)\n",
    "df.head()"
   ]
  },
  {
   "cell_type": "markdown",
   "metadata": {},
   "source": [
    "## Create a function to get Date of Month\n",
    "## Add Date of Month column to Dataframe"
   ]
  },
  {
   "cell_type": "code",
   "execution_count": 4,
   "metadata": {
    "scrolled": true
   },
   "outputs": [
    {
     "data": {
      "text/html": [
       "<div>\n",
       "<style scoped>\n",
       "    .dataframe tbody tr th:only-of-type {\n",
       "        vertical-align: middle;\n",
       "    }\n",
       "\n",
       "    .dataframe tbody tr th {\n",
       "        vertical-align: top;\n",
       "    }\n",
       "\n",
       "    .dataframe thead th {\n",
       "        text-align: right;\n",
       "    }\n",
       "</style>\n",
       "<table border=\"1\" class=\"dataframe\">\n",
       "  <thead>\n",
       "    <tr style=\"text-align: right;\">\n",
       "      <th></th>\n",
       "      <th>Date/Time</th>\n",
       "      <th>Lat</th>\n",
       "      <th>Lon</th>\n",
       "      <th>Base</th>\n",
       "      <th>DoM</th>\n",
       "    </tr>\n",
       "  </thead>\n",
       "  <tbody>\n",
       "    <tr>\n",
       "      <th>379223</th>\n",
       "      <td>2014-04-07 15:14:00</td>\n",
       "      <td>40.7200</td>\n",
       "      <td>-74.0011</td>\n",
       "      <td>B02682</td>\n",
       "      <td>7</td>\n",
       "    </tr>\n",
       "    <tr>\n",
       "      <th>379224</th>\n",
       "      <td>2014-04-07 15:14:00</td>\n",
       "      <td>40.7640</td>\n",
       "      <td>-73.9769</td>\n",
       "      <td>B02682</td>\n",
       "      <td>7</td>\n",
       "    </tr>\n",
       "    <tr>\n",
       "      <th>379225</th>\n",
       "      <td>2014-04-07 15:14:00</td>\n",
       "      <td>40.7240</td>\n",
       "      <td>-73.998</td>\n",
       "      <td>B02682</td>\n",
       "      <td>7</td>\n",
       "    </tr>\n",
       "    <tr>\n",
       "      <th>379226</th>\n",
       "      <td>2014-04-07 15:14:00</td>\n",
       "      <td>40.7747</td>\n",
       "      <td>-73.9562</td>\n",
       "      <td>B02682</td>\n",
       "      <td>7</td>\n",
       "    </tr>\n",
       "    <tr>\n",
       "      <th>379227</th>\n",
       "      <td>2014-04-07 15:14:00</td>\n",
       "      <td>40.7252</td>\n",
       "      <td>-</td>\n",
       "      <td>NaN</td>\n",
       "      <td>7</td>\n",
       "    </tr>\n",
       "  </tbody>\n",
       "</table>\n",
       "</div>"
      ],
      "text/plain": [
       "                 Date/Time      Lat       Lon    Base  DoM\n",
       "379223 2014-04-07 15:14:00  40.7200  -74.0011  B02682    7\n",
       "379224 2014-04-07 15:14:00  40.7640  -73.9769  B02682    7\n",
       "379225 2014-04-07 15:14:00  40.7240   -73.998  B02682    7\n",
       "379226 2014-04-07 15:14:00  40.7747  -73.9562  B02682    7\n",
       "379227 2014-04-07 15:14:00  40.7252         -     NaN    7"
      ]
     },
     "execution_count": 4,
     "metadata": {},
     "output_type": "execute_result"
    }
   ],
   "source": [
    "def get_dom(dt):\n",
    "    return dt.day\n",
    "\n",
    "df['DoM'] = df['Date/Time'].map(get_dom)\n",
    "\n",
    "df.tail()"
   ]
  },
  {
   "cell_type": "markdown",
   "metadata": {},
   "source": [
    "## Create functions to get weekday and hour and add them to dataframe"
   ]
  },
  {
   "cell_type": "code",
   "execution_count": 5,
   "metadata": {},
   "outputs": [
    {
     "data": {
      "text/html": [
       "<div>\n",
       "<style scoped>\n",
       "    .dataframe tbody tr th:only-of-type {\n",
       "        vertical-align: middle;\n",
       "    }\n",
       "\n",
       "    .dataframe tbody tr th {\n",
       "        vertical-align: top;\n",
       "    }\n",
       "\n",
       "    .dataframe thead th {\n",
       "        text-align: right;\n",
       "    }\n",
       "</style>\n",
       "<table border=\"1\" class=\"dataframe\">\n",
       "  <thead>\n",
       "    <tr style=\"text-align: right;\">\n",
       "      <th></th>\n",
       "      <th>Date/Time</th>\n",
       "      <th>Lat</th>\n",
       "      <th>Lon</th>\n",
       "      <th>Base</th>\n",
       "      <th>DoM</th>\n",
       "      <th>Weekday</th>\n",
       "      <th>Hour</th>\n",
       "    </tr>\n",
       "  </thead>\n",
       "  <tbody>\n",
       "    <tr>\n",
       "      <th>10000</th>\n",
       "      <td>2014-04-08 19:45:00</td>\n",
       "      <td>40.7402</td>\n",
       "      <td>-73.9997</td>\n",
       "      <td>B02512</td>\n",
       "      <td>8</td>\n",
       "      <td>1</td>\n",
       "      <td>19</td>\n",
       "    </tr>\n",
       "    <tr>\n",
       "      <th>10001</th>\n",
       "      <td>2014-04-08 19:45:00</td>\n",
       "      <td>40.7183</td>\n",
       "      <td>-73.9501</td>\n",
       "      <td>B02512</td>\n",
       "      <td>8</td>\n",
       "      <td>1</td>\n",
       "      <td>19</td>\n",
       "    </tr>\n",
       "    <tr>\n",
       "      <th>10002</th>\n",
       "      <td>2014-04-08 19:52:00</td>\n",
       "      <td>40.7538</td>\n",
       "      <td>-73.9773</td>\n",
       "      <td>B02512</td>\n",
       "      <td>8</td>\n",
       "      <td>1</td>\n",
       "      <td>19</td>\n",
       "    </tr>\n",
       "    <tr>\n",
       "      <th>10003</th>\n",
       "      <td>2014-04-08 19:54:00</td>\n",
       "      <td>40.7592</td>\n",
       "      <td>-73.9649</td>\n",
       "      <td>B02512</td>\n",
       "      <td>8</td>\n",
       "      <td>1</td>\n",
       "      <td>19</td>\n",
       "    </tr>\n",
       "    <tr>\n",
       "      <th>10004</th>\n",
       "      <td>2014-04-08 19:55:00</td>\n",
       "      <td>40.7341</td>\n",
       "      <td>-74.0025</td>\n",
       "      <td>B02512</td>\n",
       "      <td>8</td>\n",
       "      <td>1</td>\n",
       "      <td>19</td>\n",
       "    </tr>\n",
       "    <tr>\n",
       "      <th>10005</th>\n",
       "      <td>2014-04-08 19:55:00</td>\n",
       "      <td>40.7435</td>\n",
       "      <td>-73.9839</td>\n",
       "      <td>B02512</td>\n",
       "      <td>8</td>\n",
       "      <td>1</td>\n",
       "      <td>19</td>\n",
       "    </tr>\n",
       "    <tr>\n",
       "      <th>10006</th>\n",
       "      <td>2014-04-08 19:55:00</td>\n",
       "      <td>40.7142</td>\n",
       "      <td>-74.0148</td>\n",
       "      <td>B02512</td>\n",
       "      <td>8</td>\n",
       "      <td>1</td>\n",
       "      <td>19</td>\n",
       "    </tr>\n",
       "    <tr>\n",
       "      <th>10007</th>\n",
       "      <td>2014-04-08 19:56:00</td>\n",
       "      <td>40.7336</td>\n",
       "      <td>-74.002</td>\n",
       "      <td>B02512</td>\n",
       "      <td>8</td>\n",
       "      <td>1</td>\n",
       "      <td>19</td>\n",
       "    </tr>\n",
       "    <tr>\n",
       "      <th>10008</th>\n",
       "      <td>2014-04-08 19:56:00</td>\n",
       "      <td>40.7049</td>\n",
       "      <td>-73.9334</td>\n",
       "      <td>B02512</td>\n",
       "      <td>8</td>\n",
       "      <td>1</td>\n",
       "      <td>19</td>\n",
       "    </tr>\n",
       "    <tr>\n",
       "      <th>10009</th>\n",
       "      <td>2014-04-08 19:56:00</td>\n",
       "      <td>40.7685</td>\n",
       "      <td>-73.8626</td>\n",
       "      <td>B02512</td>\n",
       "      <td>8</td>\n",
       "      <td>1</td>\n",
       "      <td>19</td>\n",
       "    </tr>\n",
       "  </tbody>\n",
       "</table>\n",
       "</div>"
      ],
      "text/plain": [
       "                Date/Time      Lat       Lon    Base  DoM  Weekday  Hour\n",
       "10000 2014-04-08 19:45:00  40.7402  -73.9997  B02512    8        1    19\n",
       "10001 2014-04-08 19:45:00  40.7183  -73.9501  B02512    8        1    19\n",
       "10002 2014-04-08 19:52:00  40.7538  -73.9773  B02512    8        1    19\n",
       "10003 2014-04-08 19:54:00  40.7592  -73.9649  B02512    8        1    19\n",
       "10004 2014-04-08 19:55:00  40.7341  -74.0025  B02512    8        1    19\n",
       "10005 2014-04-08 19:55:00  40.7435  -73.9839  B02512    8        1    19\n",
       "10006 2014-04-08 19:55:00  40.7142  -74.0148  B02512    8        1    19\n",
       "10007 2014-04-08 19:56:00  40.7336   -74.002  B02512    8        1    19\n",
       "10008 2014-04-08 19:56:00  40.7049  -73.9334  B02512    8        1    19\n",
       "10009 2014-04-08 19:56:00  40.7685  -73.8626  B02512    8        1    19"
      ]
     },
     "execution_count": 5,
     "metadata": {},
     "output_type": "execute_result"
    }
   ],
   "source": [
    "def get_weekday(dt):\n",
    "    return dt.weekday()\n",
    "\n",
    "df['Weekday'] = df['Date/Time'].map(get_weekday)\n",
    "\n",
    "\n",
    "def get_hour(dt):\n",
    "    return dt.hour\n",
    "\n",
    "df['Hour'] = df['Date/Time'].map(get_hour)\n",
    "\n",
    "df[10000:10010]"
   ]
  },
  {
   "cell_type": "markdown",
   "metadata": {},
   "source": [
    "# Analysis\n",
    "## Analyze the DoM in a HISTOGRAM"
   ]
  },
  {
   "cell_type": "code",
   "execution_count": 6,
   "metadata": {
    "scrolled": true
   },
   "outputs": [
    {
     "data": {
      "text/plain": [
       "Text(0.5, 1.0, 'FREQUENCY BY DoM : UBER APRIL 2014')"
      ]
     },
     "execution_count": 6,
     "metadata": {},
     "output_type": "execute_result"
    },
    {
     "data": {
      "image/png": "[encoded data removed]",
      "text/plain": [
       "<Figure size 432x288 with 1 Axes>"
      ]
     },
     "metadata": {
      "needs_background": "light"
     },
     "output_type": "display_data"
    }
   ],
   "source": [
    "plt.hist(df['DoM'],bins=30,rwidth=0.8,color='magenta')\n",
    "# We have taken bin=30 since there are 30 days in a month\n",
    "plt.grid()\n",
    "plt.xlabel('DATE OF MONTH',color='G')\n",
    "plt.ylabel('FREQUENCY',color='G')\n",
    "plt.title('FREQUENCY BY DoM : UBER APRIL 2014',color='B')"
   ]
  },
  {
   "cell_type": "markdown",
   "metadata": {},
   "source": [
    "## Analyze the above Histogram in Theoritical Form"
   ]
  },
  {
   "cell_type": "code",
   "execution_count": 7,
   "metadata": {},
   "outputs": [
    {
     "name": "stdout",
     "output_type": "stream",
     "text": [
      "1 14223\n",
      "2 17129\n",
      "3 20296\n",
      "4 26230\n",
      "5 19148\n",
      "6 13235\n",
      "7 13973\n",
      "8 9149\n",
      "9 9418\n",
      "10 11309\n",
      "11 11650\n",
      "12 10297\n",
      "13 6902\n",
      "14 7203\n",
      "15 11853\n",
      "16 10286\n",
      "17 12304\n",
      "18 10435\n",
      "19 8578\n",
      "20 6274\n",
      "21 7690\n",
      "22 10089\n",
      "23 12255\n",
      "24 14001\n",
      "25 15271\n",
      "26 15070\n",
      "27 9103\n",
      "28 9438\n",
      "29 14101\n",
      "30 22318\n"
     ]
    }
   ],
   "source": [
    "# We can perform the below codings in normal python format\n",
    "\n",
    "for k,rows in df.groupby('DoM'):\n",
    "    print(k,len(rows))"
   ]
  },
  {
   "cell_type": "markdown",
   "metadata": {},
   "source": [
    "### Let's perform the above in pandas format"
   ]
  },
  {
   "cell_type": "code",
   "execution_count": 8,
   "metadata": {
    "scrolled": false
   },
   "outputs": [
    {
     "data": {
      "text/plain": [
       "DoM\n",
       "1     14223\n",
       "2     17129\n",
       "3     20296\n",
       "4     26230\n",
       "5     19148\n",
       "6     13235\n",
       "7     13973\n",
       "8      9149\n",
       "9      9418\n",
       "10    11309\n",
       "11    11650\n",
       "12    10297\n",
       "13     6902\n",
       "14     7203\n",
       "15    11853\n",
       "16    10286\n",
       "17    12304\n",
       "18    10435\n",
       "19     8578\n",
       "20     6274\n",
       "21     7690\n",
       "22    10089\n",
       "23    12255\n",
       "24    14001\n",
       "25    15271\n",
       "26    15070\n",
       "27     9103\n",
       "28     9438\n",
       "29    14101\n",
       "30    22318\n",
       "dtype: int64"
      ]
     },
     "execution_count": 8,
     "metadata": {},
     "output_type": "execute_result"
    }
   ],
   "source": [
    "def count_rows(rows):\n",
    "    return len(rows)\n",
    "\n",
    "by_date = df.groupby('DoM').apply(count_rows)\n",
    "by_date"
   ]
  },
  {
   "cell_type": "markdown",
   "metadata": {},
   "source": [
    "# Plot the above data in a normal graph"
   ]
  },
  {
   "cell_type": "code",
   "execution_count": 9,
   "metadata": {
    "scrolled": true
   },
   "outputs": [
    {
     "data": {
      "text/plain": [
       "[<matplotlib.lines.Line2D at 0x17ccec3df98>]"
      ]
     },
     "execution_count": 9,
     "metadata": {},
     "output_type": "execute_result"
    },
    {
     "data": {
      "image/png": "[encoded data removed]",
      "text/plain": [
       "<Figure size 432x288 with 1 Axes>"
      ]
     },
     "metadata": {
      "needs_background": "light"
     },
     "output_type": "display_data"
    }
   ],
   "source": [
    "plt.plot(by_date)"
   ]
  },
  {
   "cell_type": "markdown",
   "metadata": {},
   "source": [
    "# Plot the Above data in a Bar Graph"
   ]
  },
  {
   "cell_type": "code",
   "execution_count": 10,
   "metadata": {},
   "outputs": [
    {
     "data": {
      "text/plain": [
       "<BarContainer object of 30 artists>"
      ]
     },
     "execution_count": 10,
     "metadata": {},
     "output_type": "execute_result"
    },
    {
     "data": {
      "image/png": "[encoded data removed]",
      "text/plain": [
       "<Figure size 432x288 with 1 Axes>"
      ]
     },
     "metadata": {
      "needs_background": "light"
     },
     "output_type": "display_data"
    }
   ],
   "source": [
    "plt.bar(range(1,31),by_date)"
   ]
  },
  {
   "cell_type": "markdown",
   "metadata": {},
   "source": [
    "# Let's sort the above dates in ascending order and pull out a  bar graph"
   ]
  },
  {
   "cell_type": "code",
   "execution_count": 11,
   "metadata": {
    "scrolled": true
   },
   "outputs": [
    {
     "data": {
      "text/plain": [
       "DoM\n",
       "20     6274\n",
       "13     6902\n",
       "14     7203\n",
       "21     7690\n",
       "19     8578\n",
       "27     9103\n",
       "8      9149\n",
       "9      9418\n",
       "28     9438\n",
       "22    10089\n",
       "16    10286\n",
       "12    10297\n",
       "18    10435\n",
       "10    11309\n",
       "11    11650\n",
       "15    11853\n",
       "23    12255\n",
       "17    12304\n",
       "6     13235\n",
       "7     13973\n",
       "24    14001\n",
       "29    14101\n",
       "1     14223\n",
       "26    15070\n",
       "25    15271\n",
       "2     17129\n",
       "5     19148\n",
       "3     20296\n",
       "30    22318\n",
       "4     26230\n",
       "dtype: int64"
      ]
     },
     "execution_count": 11,
     "metadata": {},
     "output_type": "execute_result"
    }
   ],
   "source": [
    "by_date_sorted = by_date.sort_values()\n",
    "by_date_sorted"
   ]
  },
  {
   "cell_type": "code",
   "execution_count": 12,
   "metadata": {},
   "outputs": [
    {
     "data": {
      "image/png": "[encoded data removed]",
      "text/plain": [
       "<Figure size 432x288 with 1 Axes>"
      ]
     },
     "metadata": {
      "needs_background": "light"
     },
     "output_type": "display_data"
    }
   ],
   "source": [
    "plt.bar(range(1,31),by_date_sorted,width=0.6)\n",
    "plt.xticks(range(1,31),by_date_sorted.index)\n",
    "plt.grid()\n",
    "plt.xlabel('DATE OF MONTH',color='G')\n",
    "plt.ylabel('FREQUENCY',color='G')\n",
    "plt.title('FREQUENCY BY DoM : UBER APRIL 2014',color='B');"
   ]
  },
  {
   "cell_type": "markdown",
   "metadata": {},
   "source": [
    "# Analysis by Hour"
   ]
  },
  {
   "cell_type": "code",
   "execution_count": 13,
   "metadata": {},
   "outputs": [
    {
     "data": {
      "image/png": "[encoded data removed]",
      "text/plain": [
       "<Figure size 432x288 with 1 Axes>"
      ]
     },
     "metadata": {
      "needs_background": "light"
     },
     "output_type": "display_data"
    }
   ],
   "source": [
    "plt.hist(df['Hour'],bins=24,range=(0.5,24),color='orange');"
   ]
  },
  {
   "cell_type": "markdown",
   "metadata": {},
   "source": [
    "# Analysis by Weekday"
   ]
  },
  {
   "cell_type": "code",
   "execution_count": 14,
   "metadata": {},
   "outputs": [
    {
     "data": {
      "text/plain": [
       "Text(0.5, 1.0, 'Data Analysis of Uber (Weekday Analysis) April 2014')"
      ]
     },
     "execution_count": 14,
     "metadata": {},
     "output_type": "execute_result"
    },
    {
     "data": {
      "image/png": "[encoded data removed]",
      "text/plain": [
       "<Figure size 432x288 with 1 Axes>"
      ]
     },
     "metadata": {
      "needs_background": "light"
     },
     "output_type": "display_data"
    }
   ],
   "source": [
    "plt.hist(df['Weekday'],bins=7,rwidth=0.8,range=(-0.5,6.5),color='#AA6666',alpha=0.8)\n",
    "plt.xticks(range(7),'Mon Tue Wed Thu Fri Sat Sun'.split());\n",
    "plt.grid()\n",
    "plt.xlabel('Weekdays',color='#999999')\n",
    "plt.ylabel('Frequency',color='#112233')\n",
    "plt.title('Data Analysis of Uber (Weekday Analysis) April 2014',color='#556677')"
   ]
  },
  {
   "cell_type": "markdown",
   "metadata": {},
   "source": [
    "# Cross Analysis (Hour and weekday)"
   ]
  },
  {
   "cell_type": "code",
   "execution_count": 15,
   "metadata": {},
   "outputs": [
    {
     "data": {
      "text/html": [
       "<div>\n",
       "<style scoped>\n",
       "    .dataframe tbody tr th:only-of-type {\n",
       "        vertical-align: middle;\n",
       "    }\n",
       "\n",
       "    .dataframe tbody tr th {\n",
       "        vertical-align: top;\n",
       "    }\n",
       "\n",
       "    .dataframe thead th {\n",
       "        text-align: right;\n",
       "    }\n",
       "</style>\n",
       "<table border=\"1\" class=\"dataframe\">\n",
       "  <thead>\n",
       "    <tr style=\"text-align: right;\">\n",
       "      <th>Hour</th>\n",
       "      <th>0</th>\n",
       "      <th>1</th>\n",
       "      <th>2</th>\n",
       "      <th>3</th>\n",
       "      <th>4</th>\n",
       "      <th>5</th>\n",
       "      <th>6</th>\n",
       "      <th>7</th>\n",
       "      <th>8</th>\n",
       "      <th>9</th>\n",
       "      <th>...</th>\n",
       "      <th>14</th>\n",
       "      <th>15</th>\n",
       "      <th>16</th>\n",
       "      <th>17</th>\n",
       "      <th>18</th>\n",
       "      <th>19</th>\n",
       "      <th>20</th>\n",
       "      <th>21</th>\n",
       "      <th>22</th>\n",
       "      <th>23</th>\n",
       "    </tr>\n",
       "    <tr>\n",
       "      <th>Weekday</th>\n",
       "      <th></th>\n",
       "      <th></th>\n",
       "      <th></th>\n",
       "      <th></th>\n",
       "      <th></th>\n",
       "      <th></th>\n",
       "      <th></th>\n",
       "      <th></th>\n",
       "      <th></th>\n",
       "      <th></th>\n",
       "      <th></th>\n",
       "      <th></th>\n",
       "      <th></th>\n",
       "      <th></th>\n",
       "      <th></th>\n",
       "      <th></th>\n",
       "      <th></th>\n",
       "      <th></th>\n",
       "      <th></th>\n",
       "      <th></th>\n",
       "      <th></th>\n",
       "    </tr>\n",
       "  </thead>\n",
       "  <tbody>\n",
       "    <tr>\n",
       "      <th>0</th>\n",
       "      <td>332</td>\n",
       "      <td>170</td>\n",
       "      <td>161</td>\n",
       "      <td>374</td>\n",
       "      <td>686</td>\n",
       "      <td>1066</td>\n",
       "      <td>2043</td>\n",
       "      <td>2675</td>\n",
       "      <td>2167</td>\n",
       "      <td>1546</td>\n",
       "      <td>...</td>\n",
       "      <td>2219</td>\n",
       "      <td>2294</td>\n",
       "      <td>2880</td>\n",
       "      <td>3252</td>\n",
       "      <td>2767</td>\n",
       "      <td>2534</td>\n",
       "      <td>2029</td>\n",
       "      <td>1736</td>\n",
       "      <td>1110</td>\n",
       "      <td>598</td>\n",
       "    </tr>\n",
       "    <tr>\n",
       "      <th>1</th>\n",
       "      <td>454</td>\n",
       "      <td>216</td>\n",
       "      <td>189</td>\n",
       "      <td>334</td>\n",
       "      <td>559</td>\n",
       "      <td>1105</td>\n",
       "      <td>2479</td>\n",
       "      <td>3490</td>\n",
       "      <td>3028</td>\n",
       "      <td>1927</td>\n",
       "      <td>...</td>\n",
       "      <td>2975</td>\n",
       "      <td>3988</td>\n",
       "      <td>4975</td>\n",
       "      <td>5427</td>\n",
       "      <td>4644</td>\n",
       "      <td>4196</td>\n",
       "      <td>3976</td>\n",
       "      <td>3842</td>\n",
       "      <td>2299</td>\n",
       "      <td>1218</td>\n",
       "    </tr>\n",
       "    <tr>\n",
       "      <th>2</th>\n",
       "      <td>560</td>\n",
       "      <td>329</td>\n",
       "      <td>248</td>\n",
       "      <td>377</td>\n",
       "      <td>655</td>\n",
       "      <td>1294</td>\n",
       "      <td>2780</td>\n",
       "      <td>3763</td>\n",
       "      <td>3439</td>\n",
       "      <td>2523</td>\n",
       "      <td>...</td>\n",
       "      <td>3598</td>\n",
       "      <td>4690</td>\n",
       "      <td>5440</td>\n",
       "      <td>6062</td>\n",
       "      <td>5505</td>\n",
       "      <td>5047</td>\n",
       "      <td>5112</td>\n",
       "      <td>4471</td>\n",
       "      <td>3117</td>\n",
       "      <td>1588</td>\n",
       "    </tr>\n",
       "    <tr>\n",
       "      <th>3</th>\n",
       "      <td>526</td>\n",
       "      <td>298</td>\n",
       "      <td>213</td>\n",
       "      <td>378</td>\n",
       "      <td>569</td>\n",
       "      <td>959</td>\n",
       "      <td>2133</td>\n",
       "      <td>2799</td>\n",
       "      <td>2460</td>\n",
       "      <td>1804</td>\n",
       "      <td>...</td>\n",
       "      <td>2795</td>\n",
       "      <td>3562</td>\n",
       "      <td>4163</td>\n",
       "      <td>4692</td>\n",
       "      <td>4500</td>\n",
       "      <td>4018</td>\n",
       "      <td>4367</td>\n",
       "      <td>4559</td>\n",
       "      <td>3771</td>\n",
       "      <td>2017</td>\n",
       "    </tr>\n",
       "    <tr>\n",
       "      <th>4</th>\n",
       "      <td>918</td>\n",
       "      <td>513</td>\n",
       "      <td>357</td>\n",
       "      <td>500</td>\n",
       "      <td>628</td>\n",
       "      <td>930</td>\n",
       "      <td>1984</td>\n",
       "      <td>2803</td>\n",
       "      <td>2542</td>\n",
       "      <td>1881</td>\n",
       "      <td>...</td>\n",
       "      <td>2952</td>\n",
       "      <td>3719</td>\n",
       "      <td>4442</td>\n",
       "      <td>4833</td>\n",
       "      <td>5224</td>\n",
       "      <td>4464</td>\n",
       "      <td>3579</td>\n",
       "      <td>4468</td>\n",
       "      <td>4704</td>\n",
       "      <td>3710</td>\n",
       "    </tr>\n",
       "    <tr>\n",
       "      <th>5</th>\n",
       "      <td>2024</td>\n",
       "      <td>1567</td>\n",
       "      <td>1010</td>\n",
       "      <td>645</td>\n",
       "      <td>482</td>\n",
       "      <td>464</td>\n",
       "      <td>592</td>\n",
       "      <td>749</td>\n",
       "      <td>892</td>\n",
       "      <td>1194</td>\n",
       "      <td>...</td>\n",
       "      <td>2074</td>\n",
       "      <td>3054</td>\n",
       "      <td>3731</td>\n",
       "      <td>3847</td>\n",
       "      <td>4200</td>\n",
       "      <td>3804</td>\n",
       "      <td>3387</td>\n",
       "      <td>4097</td>\n",
       "      <td>4559</td>\n",
       "      <td>4058</td>\n",
       "    </tr>\n",
       "    <tr>\n",
       "      <th>6</th>\n",
       "      <td>3283</td>\n",
       "      <td>2102</td>\n",
       "      <td>1122</td>\n",
       "      <td>751</td>\n",
       "      <td>497</td>\n",
       "      <td>412</td>\n",
       "      <td>450</td>\n",
       "      <td>589</td>\n",
       "      <td>854</td>\n",
       "      <td>1225</td>\n",
       "      <td>...</td>\n",
       "      <td>2011</td>\n",
       "      <td>2364</td>\n",
       "      <td>2398</td>\n",
       "      <td>2183</td>\n",
       "      <td>1914</td>\n",
       "      <td>1722</td>\n",
       "      <td>1505</td>\n",
       "      <td>1523</td>\n",
       "      <td>1080</td>\n",
       "      <td>691</td>\n",
       "    </tr>\n",
       "  </tbody>\n",
       "</table>\n",
       "<p>7 rows × 24 columns</p>\n",
       "</div>"
      ],
      "text/plain": [
       "Hour       0     1     2    3    4     5     6     7     8     9   ...     14  \\\n",
       "Weekday                                                            ...          \n",
       "0         332   170   161  374  686  1066  2043  2675  2167  1546  ...   2219   \n",
       "1         454   216   189  334  559  1105  2479  3490  3028  1927  ...   2975   \n",
       "2         560   329   248  377  655  1294  2780  3763  3439  2523  ...   3598   \n",
       "3         526   298   213  378  569   959  2133  2799  2460  1804  ...   2795   \n",
       "4         918   513   357  500  628   930  1984  2803  2542  1881  ...   2952   \n",
       "5        2024  1567  1010  645  482   464   592   749   892  1194  ...   2074   \n",
       "6        3283  2102  1122  751  497   412   450   589   854  1225  ...   2011   \n",
       "\n",
       "Hour       15    16    17    18    19    20    21    22    23  \n",
       "Weekday                                                        \n",
       "0        2294  2880  3252  2767  2534  2029  1736  1110   598  \n",
       "1        3988  4975  5427  4644  4196  3976  3842  2299  1218  \n",
       "2        4690  5440  6062  5505  5047  5112  4471  3117  1588  \n",
       "3        3562  4163  4692  4500  4018  4367  4559  3771  2017  \n",
       "4        3719  4442  4833  5224  4464  3579  4468  4704  3710  \n",
       "5        3054  3731  3847  4200  3804  3387  4097  4559  4058  \n",
       "6        2364  2398  2183  1914  1722  1505  1523  1080   691  \n",
       "\n",
       "[7 rows x 24 columns]"
      ]
     },
     "execution_count": 15,
     "metadata": {},
     "output_type": "execute_result"
    }
   ],
   "source": [
    "cross = df.groupby(['Weekday','Hour']).apply(count_rows).unstack()\n",
    "cross"
   ]
  },
  {
   "cell_type": "code",
   "execution_count": 16,
   "metadata": {},
   "outputs": [
    {
     "data": {
      "text/plain": [
       "<matplotlib.axes._subplots.AxesSubplot at 0x17ccefa16d8>"
      ]
     },
     "execution_count": 16,
     "metadata": {},
     "output_type": "execute_result"
    },
    {
     "data": {
      "image/png": "[encoded data removed]",
      "text/plain": [
       "<Figure size 432x288 with 2 Axes>"
      ]
     },
     "metadata": {
      "needs_background": "light"
     },
     "output_type": "display_data"
    }
   ],
   "source": [
    "sb.heatmap(cross)"
   ]
  },
  {
   "cell_type": "markdown",
   "metadata": {},
   "source": [
    "# Analysis by Latitude"
   ]
  },
  {
   "cell_type": "code",
   "execution_count": 17,
   "metadata": {
    "scrolled": false
   },
   "outputs": [
    {
     "data": {
      "image/png": "[encoded data removed]",
      "text/plain": [
       "<Figure size 432x288 with 1 Axes>"
      ]
     },
     "metadata": {
      "needs_background": "light"
     },
     "output_type": "display_data"
    }
   ],
   "source": [
    "plt.hist(df['Lat'],bins=100,range=(40.5,41),color='#DD4567')\n",
    "plt.xlabel('LATITUDE',color='#BB6547')\n",
    "plt.ylabel('FREQUENCY',color='#CC0987');"
   ]
  }
 ],
 "metadata": {
  "kernelspec": {
   "display_name": "Python 3",
   "language": "python",
   "name": "python3"
  },
  "language_info": {
   "codemirror_mode": {
    "name": "ipython",
    "version": 3
   },
   "file_extension": ".py",
   "mimetype": "text/x-python",
   "name": "python",
   "nbconvert_exporter": "python",
   "pygments_lexer": "ipython3",
   "version": "3.7.1"
  }
 },
 "nbformat": 4,
 "nbformat_minor": 2
}
